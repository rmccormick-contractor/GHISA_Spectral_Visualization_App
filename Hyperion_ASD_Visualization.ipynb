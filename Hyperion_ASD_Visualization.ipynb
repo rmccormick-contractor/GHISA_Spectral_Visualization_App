{
  "cells": [
    {
      "cell_type": "markdown",
      "metadata": {
        "id": "view-in-github",
        "colab_type": "text"
      },
      "source": [
        "<a href=\"https://colab.research.google.com/github/rmccormick-contractor/Hyperion-ASD-Visualization/blob/main/Hyperion_ASD_Visualization.ipynb\" target=\"_parent\"><img src=\"https://colab.research.google.com/assets/colab-badge.svg\" alt=\"Open In Colab\"/></a>"
      ]
    },
    {
      "cell_type": "code",
      "execution_count": null,
      "id": "f74e813e-aefb-4542-b553-5bdfadfc9994",
      "metadata": {
        "id": "f74e813e-aefb-4542-b553-5bdfadfc9994"
      },
      "outputs": [],
      "source": [
        "#First time setup - Installs all required components\n",
        "!pip install geemap\n",
        "!pip install ipyleaflet\n",
        "!pip install ipywidgets\n",
        "!pip install ipympl\n",
        "!pip install npm\n",
        "!pip install gmaps\n",
        "!pip install hvplot\n",
        "!pip install geopy\n",
        "!pip install pygeocoder\n",
        "!pip install matplotlib\n",
        "!pip uninstall tornado --yes\n",
        "!pip install tornado\n",
        "\n",
        "# RESTART KERNEL AFTER THIS CODE HAS BEEN RUN"
      ]
    },
    {
      "cell_type": "code",
      "execution_count": null,
      "id": "493fc5fb",
      "metadata": {
        "id": "493fc5fb"
      },
      "outputs": [],
      "source": [
        "#Import dependencies\n",
        "import pandas as pd\n",
        "import numpy as np\n",
        "import geopy\n",
        "import geemap\n",
        "import hvplot.pandas\n",
        "import panel as pn\n",
        "import holoviews as hv\n",
        "import matplotlib as mpl\n",
        "import matplotlib.pyplot as plt\n",
        "\n",
        "from bokeh.models import SingleIntervalTicker, LinearAxis\n",
        "from holoviews import opts\n",
        "hv.extension('bokeh')\n",
        "from pygeocoder import Geocoder\n",
        "from IPython.display import display\n",
        "\n",
        "#Cleanup data for mapping. (Map does not need spectrum data)\n",
        "#Map_DF = pd.read_csv(r'GHISA-USA-EO-1-Hyperion-data-of-crops-1h_gaezs.csv')\n",
        "#Map_DF = Map_DF.drop(Map_DF.iloc[:, 12:-2], axis=1)"
      ]
    },
    {
      "cell_type": "code",
      "execution_count": null,
      "id": "bcc53e03",
      "metadata": {
        "id": "bcc53e03"
      },
      "outputs": [],
      "source": [
        "pn.extension(comms='colab')\n",
        "\n",
        "Combined_Crop_Select = pn.widgets.Select(name='Crop:', options=['All', 'Alfalfa', 'Cotton', 'Corn', 'Rice', 'Soybean', 'Wheat', 'Winter Wheat'])\n",
        "Combined_Crop_Select\n",
        "\n",
        "Combined_Stage_Select = pn.widgets.Select(\n",
        "    name='Growth Stage:', \n",
        "    options=['All', 'Emerge_VEarly', 'Early_Mid', 'Mature_Senesc', 'Late', 'Harvest', 'Critical']\n",
        ")\n",
        "\n",
        "Year_Range_Slider = pn.widgets.RangeSlider(\n",
        "    name='Select Year(s)', start=2006, end=2015, step=1)\n",
        "\n",
        "Month_Range_Slider = pn.widgets.RangeSlider(\n",
        "    name='Select Month(s)', start=1, end=12, step=1)\n",
        "\n",
        "Day_Range_Slider = pn.widgets.RangeSlider(\n",
        "    name='Select Julian Day(s)', start=1, end=365, step=1)\n",
        "\n",
        "AEZ_Global_Select = pn.widgets.IntSlider(name='AEZ (Global, 0 for all)', start=0, end=74)\n",
        "\n",
        "Country_Select = pn.widgets.Select(name='Country:', options=['All', 'USA', 'Uzbekistan'])\n",
        "\n",
        "State_Select = pn.widgets.Select(\n",
        "    name='Study Area:', \n",
        "    options=['All', 'Arizona', 'California', 'Indiana', 'Kansas', 'Oklahoma', 'Galaba', 'South Dakota', 'Texas', 'U.Yusupova', 'Wisconsin']\n",
        ")\n",
        "\n",
        "\n",
        "Sensor_Select = pn.widgets.Select(name='Sensor:', options=['All', 'Hyperion', 'ASD Spectroradiometer'])\n",
        "\n",
        "\n",
        "pn.Row(pn.WidgetBox(Sensor_Select, Combined_Crop_Select, Combined_Stage_Select), \n",
        "       pn.WidgetBox(Year_Range_Slider, Month_Range_Slider, Day_Range_Slider),\n",
        "       pn.WidgetBox(AEZ_Global_Select, Country_Select, State_Select)\n",
        ")"
      ]
    },
    {
      "cell_type": "code",
      "execution_count": null,
      "id": "eeb71147",
      "metadata": {
        "id": "eeb71147"
      },
      "outputs": [],
      "source": [
        "# Open each data file and assign to a Data Frame\n",
        "\n",
        "new_df = pd.read_csv(r'https://raw.githubusercontent.com/rmccormick-contractor/Hyperion-ASD-Visualization/main/Croplands_DataViz/asd_long.csv', \n",
        "                     low_memory=False, index_col=False, na_values='NaN')\n",
        "new_df2 = pd.read_csv(r'https://raw.githubusercontent.com/rmccormick-contractor/Hyperion-ASD-Visualization/main/Croplands_DataViz/hyp1_long.csv',\n",
        "                      low_memory=False, index_col=False, na_values='NaN')\n",
        "new_df2_1 = pd.read_csv(r'https://raw.githubusercontent.com/rmccormick-contractor/Hyperion-ASD-Visualization/main/Croplands_DataViz/hyp2_1_long.csv',\n",
        "                        low_memory=False, index_col=False, na_values='NaN')\n",
        "new_df3 = pd.read_csv(r'https://raw.githubusercontent.com/rmccormick-contractor/Hyperion-ASD-Visualization/main/Croplands_DataViz/hyp2_long.csv',\n",
        "                      low_memory=False, index_col=False, na_values='NaN')\n",
        "new_df4 = pd.read_csv(r'https://raw.githubusercontent.com/rmccormick-contractor/Hyperion-ASD-Visualization/main/Croplands_DataViz/hyp3_long.csv',\n",
        "                      low_memory=False, index_col=False, na_values='NaN')\n",
        "new_df5 = pd.read_csv(r'https://raw.githubusercontent.com/rmccormick-contractor/Hyperion-ASD-Visualization/main/Croplands_DataViz/hyp4_long.csv',\n",
        "                      low_memory=False, index_col=False, na_values='NaN')\n",
        "new_df6 = pd.read_csv(r'https://raw.githubusercontent.com/rmccormick-contractor/Hyperion-ASD-Visualization/main/Croplands_DataViz/hyp5_long.csv',\n",
        "                      low_memory=False, index_col=False, na_values='NaN')\n",
        "\n",
        "# Concat all dataframes into one single\n",
        "new_df = pd.concat([new_df, new_df2])\n",
        "new_df = pd.concat([new_df, new_df2_1])\n",
        "new_df = pd.concat([new_df, new_df3])\n",
        "new_df = pd.concat([new_df, new_df4])\n",
        "new_df = pd.concat([new_df, new_df5])\n",
        "new_df = pd.concat([new_df, new_df6])\n",
        "\n",
        "# Drop unnessary index column\n",
        "new_df = new_df.drop(new_df.iloc[:, 0:0], axis=1)\n",
        "\n",
        "\n",
        "# Filter on Crop & Growth Stage\n",
        "if (Combined_Crop_Select.value != 'All'):\n",
        "    new_df = new_df.loc[(new_df['Crop'].values == Combined_Crop_Select.value)]\n",
        "if (Combined_Stage_Select.value != 'All'):\n",
        "    new_df = new_df.loc[(new_df['Stage'].values == Combined_Stage_Select.value)]\n",
        "   \n",
        "# Filter based on Year range\n",
        "new_df = new_df.loc[(new_df['Year'].values >= Year_Range_Slider.value[0])]\n",
        "new_df = new_df.loc[(new_df['Year'].values <= Year_Range_Slider.value[1])]\n",
        "\n",
        "# Filter based on Month range\n",
        "new_df = new_df.loc[(new_df['Month'].values >= Month_Range_Slider.value[0])]\n",
        "new_df = new_df.loc[(new_df['Month'].values <= Month_Range_Slider.value[1])]\n",
        "\n",
        "# Filter based on Julian Day range\n",
        "new_df = new_df.loc[(new_df['JulianDay'].values >= Day_Range_Slider.value[0])]\n",
        "new_df = new_df.loc[(new_df['JulianDay'].values <= Day_Range_Slider.value[1])]\n",
        "\n",
        "if (AEZ_Global_Select.value != 0):\n",
        "    new_df[\"Global_AEZ\"] = pd.to_numeric(new_df[\"Global_AEZ\"], errors='coerce').astype('int')\n",
        "    new_df = new_df.loc[(new_df['Global_AEZ'].values == AEZ_Global_Select.value)]\n",
        "    \n",
        "if (Sensor_Select.value != 'All'):\n",
        "    new_df = new_df.loc[(new_df['Sensor'].values == Sensor_Select.value)]\n",
        "    \n",
        "if (State_Select.value != 'All'):\n",
        "    new_df = new_df.loc[(new_df['StudyArea'].values == State_Select.value)]\n",
        "    \n",
        "if (Country_Select.value != 'All'):\n",
        "    new_df = new_df.loc[(new_df['Country'].values == Country_Select.value)]\n",
        "\n",
        "\n",
        "test_df = new_df\n",
        "\n",
        "#new_df = new_df.replace(0.0, 'NaN', regex=True)\n",
        "#new_df = new_df.set_index('MasterID')\n",
        "new_df = new_df.drop(columns=['Sensor', 'UniqueID', 'PlotID', 'StudyArea', 'Country', 'USA_AEZ', 'Global_AEZ', 'FID', 'Image', 'Month', 'Year', 'JulianDay', 'Long', 'Lat', 'Stage'])\n",
        "#new_df = new_df.transpose()\n",
        "#new_df[\"Reflectance\"] = pd.to_numeric(new_df[\"Reflectance\"], errors='coerce').astype('int')\n",
        "\n",
        "#new_df = new_df.reset_index()\n",
        "\n",
        "new_df = new_df.dropna()\n",
        "#new_df = new_df.drop(new_df.iloc[0], axis=1)\n",
        "\n",
        "#new_df = new_df.pivot_table(\n",
        "#    index=[\"MasterID\",\"Crop\",\"Wavelength\"],\n",
        "#    values='Reflectance'\n",
        "#)\n",
        "\n",
        "new_df.to_csv('new_df_data')\n",
        "\n",
        "\n",
        "if (new_df.empty):\n",
        "    print(\"No data found for this query. Please expand search parameters.\")"
      ]
    },
    {
      "cell_type": "code",
      "execution_count": null,
      "id": "882a2fcf",
      "metadata": {
        "id": "882a2fcf"
      },
      "outputs": [],
      "source": [
        "hv.extension('bokeh')\n",
        "\n",
        "reflectance_plot = new_df.hvplot.line(x = \"Wavelength\",y = \"Reflectance\", by=\"MasterID\", legend=False).opts(fontsize={'title': 16, 'labels': 14, 'yticks': 12},xrotation=45, xticks=15)\n",
        "\n",
        "reflectance_plot"
      ]
    },
    {
      "cell_type": "code",
      "execution_count": null,
      "id": "f1d743cd-06b7-479d-a386-0248109d4c7b",
      "metadata": {
        "id": "f1d743cd-06b7-479d-a386-0248109d4c7b"
      },
      "outputs": [],
      "source": [
        "mean_df = test_df\n",
        "mean_df = mean_df.groupby(['Sensor', 'Wavelength', 'Crop'])['Reflectance'].mean()\n",
        "mean_df = mean_df.dropna()\n",
        "\n",
        "median_df = test_df\n",
        "median_df = median_df.groupby(['Sensor', 'Wavelength', 'Crop'])['Reflectance'].median()\n",
        "median_df = median_df.dropna()\n",
        "\n",
        "mean_df\n",
        "mean_df.to_csv('testing')\n",
        "\n",
        "# mean_df.plot(x='Wavelength', y='Reflectance')"
      ]
    },
    {
      "cell_type": "code",
      "execution_count": null,
      "id": "a79d91aa-95d1-4fcd-a54b-eca5bc466bc9",
      "metadata": {
        "id": "a79d91aa-95d1-4fcd-a54b-eca5bc466bc9"
      },
      "outputs": [],
      "source": [
        "Group_By_Select = pn.widgets.Select(name='Group By:', options=['All', 'Crop Type', 'Sensor'])\n",
        "Group_By_Select"
      ]
    },
    {
      "cell_type": "code",
      "execution_count": null,
      "id": "d28f872d-ea96-4c56-a1b9-5ebaad43d16f",
      "metadata": {
        "id": "d28f872d-ea96-4c56-a1b9-5ebaad43d16f"
      },
      "outputs": [],
      "source": [
        "hv.extension('bokeh')\n",
        "\n",
        "if (Group_By_Select.value == 'Sensor'):\n",
        "    mean_plot = mean_df.hvplot.line(x = \"Wavelength\",y = \"Reflectance\",by=\"Sensor\",title='Average Reflectance by Sensor',ylabel='Reflectance (%)',xlabel='Wavelength (nm)').opts(fontsize={'title': 16, 'labels': 14, 'yticks': 12},xrotation=45, xticks=15)\n",
        "    median_plot = median_df.hvplot.line(x = \"Wavelength\",y = \"Reflectance\",by='Sensor',title='Median Reflectance by Crop Type',ylabel='Reflectance (%)',xlabel='Wavelength (nm)').opts(fontsize={'title': 16, 'labels': 14, 'yticks': 12},xrotation=45, xticks=15)\n",
        "    \n",
        "if (Group_By_Select.value == 'Crop Type'):\n",
        "    mean_plot = mean_df.hvplot.line(x = \"Wavelength\",y = \"Reflectance\",by='Crop',title='Average Reflectance by Crop Type',ylabel='Reflectance (%)',xlabel='Wavelength (nm)').opts(fontsize={'title': 16, 'labels': 14, 'yticks': 12},xrotation=45, xticks=15)\n",
        "    median_plot = median_df.hvplot.line(x = \"Wavelength\",y = \"Reflectance\",by='Crop',title='Median Reflectance by Crop Type',ylabel='Reflectance (%)',xlabel='Wavelength (nm)').opts(fontsize={'title': 16, 'labels': 14, 'yticks': 12},xrotation=45, xticks=15)\n",
        "\n",
        "if (Group_By_Select.value == 'All'):\n",
        "    mean_plot = mean_df.hvplot.line(x = \"Wavelength\",y = \"Reflectance\",by=['Crop']).opts(fontsize={'title': 16, 'labels': 14, 'yticks': 12},xrotation=45, xticks=15)\n",
        "    mean_plot = mean_df.hvplot.line(x = \"Wavelength\",y = \"Reflectance\",by=['Sensor'])\n",
        "\n",
        "    \n",
        "mean_plot + median_plot"
      ]
    }
  ],
  "metadata": {
    "kernelspec": {
      "display_name": "Python 3 (ipykernel)",
      "language": "python",
      "name": "python3"
    },
    "language_info": {
      "codemirror_mode": {
        "name": "ipython",
        "version": 3
      },
      "file_extension": ".py",
      "mimetype": "text/x-python",
      "name": "python",
      "nbconvert_exporter": "python",
      "pygments_lexer": "ipython3",
      "version": "3.9.6"
    },
    "colab": {
      "name": "Hyperion_ASD_Visualization.ipynb",
      "provenance": [],
      "toc_visible": true,
      "collapsed_sections": [],
      "include_colab_link": true
    }
  },
  "nbformat": 4,
  "nbformat_minor": 5
}